{
 "cells": [
  {
   "cell_type": "code",
   "execution_count": 1,
   "metadata": {},
   "outputs": [],
   "source": [
    "import torch\n",
    "import torchvision.transforms.functional\n",
    "from torch import nn"
   ]
  },
  {
   "cell_type": "code",
   "execution_count": 2,
   "metadata": {},
   "outputs": [],
   "source": [
    "class DoubleConvolution(nn.Module):\n",
    "    def __init__(self,in_channels:int, out_channels:int):\n",
    "        super().__init__()\n",
    "        self.first=nn.Conv2d(in_channels,out_channels,kernel_size=3)\n",
    "        self.act1=nn.ReLU()\n",
    "\n",
    "        self.second=nn.Conv2d(out_channels,out_channels,kernel_size=3)\n",
    "        self.act2=nn.ReLU()\n",
    "    \n",
    "    def forward(self,x:torch.Tensor):\n",
    "        x=self.first(x)\n",
    "        x=self.act1(x)\n",
    "        x=self.second(x)\n",
    "        return self.act2(x)"
   ]
  },
  {
   "cell_type": "code",
   "execution_count": 3,
   "metadata": {},
   "outputs": [],
   "source": [
    "class DownSample(nn.Module):\n",
    "    def __init__(self):\n",
    "        super().__init__()\n",
    "\n",
    "        self.pool=nn.MaxPool2d(2)\n",
    "    \n",
    "    def forward(self,x:torch.Tensor):\n",
    "        out=self.pool(x)\n",
    "        return out"
   ]
  },
  {
   "cell_type": "code",
   "execution_count": 4,
   "metadata": {},
   "outputs": [],
   "source": [
    "class UpSample(nn.Module):\n",
    "    def __init__(self, in_channels:int, out_channels:int):\n",
    "        super().__init__()\n",
    "\n",
    "        self.up=nn.ConvTranspose2d(in_channels,out_channels,kernel_size=2,stride=2)\n",
    "\n",
    "    def forward(self,x:torch.Tensor):\n",
    "        out=self.up(x)\n",
    "        return out"
   ]
  },
  {
   "cell_type": "code",
   "execution_count": 5,
   "metadata": {},
   "outputs": [],
   "source": [
    "class CropAndConcat(nn.Module):\n",
    "    def forward(self,x:torch.Tensor, contracting_x:torch.Tensor):\n",
    "        contracting_x=torchvision.transforms.functional.center_crop(contracting_x,[x.shape[2],x.shape[3]])\n",
    "        x=torch.cat([x,contracting_x],dim=1)\n",
    "        return x"
   ]
  },
  {
   "cell_type": "code",
   "execution_count": 6,
   "metadata": {},
   "outputs": [],
   "source": [
    "class UNet(nn.Module):\n",
    "    def __init__(self,in_channels:int, out_channels:int):\n",
    "        super().__init__()\n",
    "        self.down_conv=nn.ModuleList([DoubleConvolution(i,o) for i,o in \n",
    "                                     [(in_channels,64),(64,128),(128,256),(256,512)]])\n",
    "        self.down_sample = nn.ModuleList([DownSample() for _ in range(4)])\n",
    "        self.middle_conv = DoubleConvolution(512, 1024)\n",
    "        self.up_sample = nn.ModuleList([UpSample(i, o) for i, o in\n",
    "                                       [(1024, 512), (512, 256), (256, 128), (128, 64)]])\n",
    "        self.up_conv = nn.ModuleList([DoubleConvolution(i, o) for i, o in\n",
    "                                     [(1024, 512), (512, 256), (256, 128), (128, 64)]])\n",
    "        self.concat = nn.ModuleList([CropAndConcat() for _ in range(4)])\n",
    "        self.final_conv = nn.Conv2d(64, out_channels, kernel_size=1)\n",
    "\n",
    "    def forward(self, x: torch.Tensor):\n",
    "        pass_through = []\n",
    "        for i in range(len(self.down_conv)):\n",
    "            x = self.down_conv[i](x)\n",
    "            pass_through.append(x)\n",
    "            x=self.down_sample[i](x)\n",
    "        x=self.middle_conv(x)\n",
    "        for i in range(len(self.up_conv)):\n",
    "            x=self.up_sample[i](x)\n",
    "            x=self.concat[i](x,pass_through.pop())\n",
    "            x=self.up_conv[i](x)\n",
    "        x=self.final_conv(x)\n",
    "        return x"
   ]
  },
  {
   "cell_type": "code",
   "execution_count": 7,
   "metadata": {},
   "outputs": [],
   "source": [
    "import torch\n",
    "from torch import nn\n",
    "\n",
    "\n",
    "class ChannelAttention(nn.Module):\n",
    "    def __init__(self, in_planes, ratio=16):\n",
    "        super(ChannelAttention, self).__init__()\n",
    "        self.avg_pool = nn.AdaptiveAvgPool2d(1)\n",
    "        self.max_pool = nn.AdaptiveMaxPool2d(1)\n",
    "\n",
    "        self.fc1 = nn.Conv2d(in_planes, in_planes // ratio, 1, bias=False)\n",
    "        self.relu1 = nn.ReLU()\n",
    "        self.fc2 = nn.Conv2d(in_planes // ratio, in_planes, 1, bias=False)\n",
    "        self.sigmoid = nn.Sigmoid()\n",
    "\n",
    "    def forward(self, x):\n",
    "        avg_out = self.fc2(self.relu1(self.fc1(self.avg_pool(x))))\n",
    "        max_out = self.fc2(self.relu1(self.fc1(self.max_pool(x))))\n",
    "        out = avg_out + max_out\n",
    "        return self.sigmoid(out)\n",
    "\n",
    "\n",
    "class SpatialAttention(nn.Module):\n",
    "    def __init__(self, kernel_size=7):\n",
    "        super(SpatialAttention, self).__init__()\n",
    "\n",
    "        assert kernel_size in (3, 7), 'kernel size must be 3 or 7'\n",
    "        padding = 3 if kernel_size == 7 else 1\n",
    "\n",
    "        self.conv1 = nn.Conv2d(2, 1, kernel_size, padding=padding, bias=False)  # 7,3     3,1\n",
    "        self.sigmoid = nn.Sigmoid()\n",
    "\n",
    "    def forward(self, x):\n",
    "        avg_out = torch.mean(x, dim=1, keepdim=True)\n",
    "        max_out, _ = torch.max(x, dim=1, keepdim=True)\n",
    "        x = torch.cat([avg_out, max_out], dim=1)\n",
    "        x = self.conv1(x)\n",
    "        return self.sigmoid(x)\n",
    "\n",
    "\n",
    "class CBAM(nn.Module):\n",
    "    def __init__(self, in_planes, ratio=16, kernel_size=7):\n",
    "        super(CBAM, self).__init__()\n",
    "        self.ca = ChannelAttention(in_planes, ratio)\n",
    "        self.sa = SpatialAttention(kernel_size)\n",
    "\n",
    "    def forward(self, x):\n",
    "        out = x * self.ca(x)\n",
    "        result = out * self.sa(out)\n",
    "        return result\n",
    "\n",
    "\n",
    "# 输入 N C H W,  输出 N C H W\n",
    "# if __name__ == '__main__':\n",
    "#     block = CBAM(64)\n",
    "#     input = torch.rand(1, 64, 64, 64)\n",
    "#     output = block(input)\n",
    "#     print(input.size(), output.size())"
   ]
  },
  {
   "cell_type": "code",
   "execution_count": 3,
   "metadata": {},
   "outputs": [
    {
     "ename": "ValueError",
     "evalue": "too many values to unpack (expected 2)",
     "output_type": "error",
     "traceback": [
      "\u001b[1;31m---------------------------------------------------------------------------\u001b[0m",
      "\u001b[1;31mValueError\u001b[0m                                Traceback (most recent call last)",
      "\u001b[1;32mc:\\Users\\gengrui\\workspace\\pro_1_20230925\\transformers.ipynb Cell 8\u001b[0m line \u001b[0;36m1\n\u001b[0;32m    <a href='vscode-notebook-cell:/c%3A/Users/gengrui/workspace/pro_1_20230925/transformers.ipynb#X10sZmlsZQ%3D%3D?line=132'>133</a>\u001b[0m val_dataloader\u001b[39m=\u001b[39mmydataloader(val_dataset,\u001b[39m16\u001b[39m)\n\u001b[0;32m    <a href='vscode-notebook-cell:/c%3A/Users/gengrui/workspace/pro_1_20230925/transformers.ipynb#X10sZmlsZQ%3D%3D?line=133'>134</a>\u001b[0m \u001b[39mfor\u001b[39;00m e,data \u001b[39min\u001b[39;00m \u001b[39menumerate\u001b[39m(train_dataloader):\n\u001b[1;32m--> <a href='vscode-notebook-cell:/c%3A/Users/gengrui/workspace/pro_1_20230925/transformers.ipynb#X10sZmlsZQ%3D%3D?line=134'>135</a>\u001b[0m     X,Y\u001b[39m=\u001b[39mdata\n\u001b[0;32m    <a href='vscode-notebook-cell:/c%3A/Users/gengrui/workspace/pro_1_20230925/transformers.ipynb#X10sZmlsZQ%3D%3D?line=135'>136</a>\u001b[0m     X\u001b[39m=\u001b[39mtorch\u001b[39m.\u001b[39mtensor(X,dtype\u001b[39m=\u001b[39mtorch\u001b[39m.\u001b[39mfloat32)\u001b[39m.\u001b[39mto(device)\n\u001b[0;32m    <a href='vscode-notebook-cell:/c%3A/Users/gengrui/workspace/pro_1_20230925/transformers.ipynb#X10sZmlsZQ%3D%3D?line=136'>137</a>\u001b[0m     Y\u001b[39m=\u001b[39mtorch\u001b[39m.\u001b[39mtensor(Y[:,\u001b[39m0\u001b[39m,\u001b[39m.\u001b[39m\u001b[39m.\u001b[39m\u001b[39m.\u001b[39m],dtype\u001b[39m=\u001b[39mtorch\u001b[39m.\u001b[39mlong)\u001b[39m.\u001b[39mto(device)\n",
      "\u001b[1;31mValueError\u001b[0m: too many values to unpack (expected 2)"
     ]
    }
   ],
   "source": [
    "import torch\n",
    "import torchvision.transforms.functional\n",
    "import torch.nn as nn\n",
    "import torch.optim as optim\n",
    "from utils import split_dataset,mydataloader\n",
    "import matplotlib.pyplot as plt\n",
    "\n",
    "class ChannelAttention(nn.Module):\n",
    "    def __init__(self, in_planes, ratio=16):\n",
    "        super(ChannelAttention, self).__init__()\n",
    "        self.avg_pool = nn.AdaptiveAvgPool2d(1)\n",
    "        self.max_pool = nn.AdaptiveMaxPool2d(1)\n",
    "\n",
    "        self.fc1 = nn.Conv2d(in_planes, in_planes // ratio, 1, bias=False)\n",
    "        self.relu1 = nn.ReLU()\n",
    "        self.fc2 = nn.Conv2d(in_planes // ratio, in_planes, 1, bias=False)\n",
    "        self.sigmoid = nn.Sigmoid()\n",
    "\n",
    "    def forward(self, x):\n",
    "        avg_out = self.fc2(self.relu1(self.fc1(self.avg_pool(x))))\n",
    "        max_out = self.fc2(self.relu1(self.fc1(self.max_pool(x))))\n",
    "        out = avg_out + max_out\n",
    "        return self.sigmoid(out)\n",
    "\n",
    "\n",
    "class SpatialAttention(nn.Module):\n",
    "    def __init__(self, kernel_size=7):\n",
    "        super(SpatialAttention, self).__init__()\n",
    "\n",
    "        assert kernel_size in (3, 7), 'kernel size must be 3 or 7'\n",
    "        padding = 3 if kernel_size == 7 else 1\n",
    "\n",
    "        self.conv1 = nn.Conv2d(2, 1, kernel_size, padding=padding, bias=False)  # 7,3     3,1\n",
    "        self.sigmoid = nn.Sigmoid()\n",
    "\n",
    "    def forward(self, x):\n",
    "        avg_out = torch.mean(x, dim=1, keepdim=True)\n",
    "        max_out, _ = torch.max(x, dim=1, keepdim=True)\n",
    "        x = torch.cat([avg_out, max_out], dim=1)\n",
    "        x = self.conv1(x)\n",
    "        return self.sigmoid(x)\n",
    "\n",
    "\n",
    "class CBAM(nn.Module):\n",
    "    def __init__(self, in_planes, ratio=16, kernel_size=7):\n",
    "        super(CBAM, self).__init__()\n",
    "        self.ca = ChannelAttention(in_planes, ratio)\n",
    "        self.sa = SpatialAttention(kernel_size)\n",
    "\n",
    "    def forward(self, x):\n",
    "        out = x * self.ca(x)\n",
    "        result = out * self.sa(out)\n",
    "        return result\n",
    "    \n",
    "class DoubleConvolution(nn.Module):\n",
    "    def __init__(self,in_channels:int, out_channels:int):\n",
    "        super().__init__()\n",
    "        self.first=nn.Conv2d(in_channels,out_channels,kernel_size=3)\n",
    "        self.act1=nn.ReLU()\n",
    "\n",
    "        self.second=nn.Conv2d(out_channels,out_channels,kernel_size=3)\n",
    "        self.act2=nn.ReLU()\n",
    "    \n",
    "    def forward(self,x:torch.Tensor):\n",
    "        x=self.first(x)\n",
    "        x=self.act1(x)\n",
    "        x=self.second(x)\n",
    "        return self.act2(x)\n",
    "    \n",
    "class DownSample(nn.Module):\n",
    "    def __init__(self):\n",
    "        super().__init__()\n",
    "\n",
    "        self.pool=nn.MaxPool2d(2)\n",
    "    \n",
    "    def forward(self,x:torch.Tensor):\n",
    "        out=self.pool(x)\n",
    "        return out\n",
    "    \n",
    "class UpSample(nn.Module):\n",
    "    def __init__(self, in_channels:int, out_channels:int):\n",
    "        super().__init__()\n",
    "\n",
    "        self.up=nn.ConvTranspose2d(in_channels,out_channels,kernel_size=2,stride=2)\n",
    "\n",
    "    def forward(self,x:torch.Tensor):\n",
    "        out=self.up(x)\n",
    "        return out\n",
    "    \n",
    "class CropAndConcat(nn.Module):\n",
    "    def forward(self,x:torch.Tensor, contracting_x:torch.Tensor):\n",
    "        contracting_x=torchvision.transforms.functional.center_crop(contracting_x,[x.shape[2],x.shape[3]])\n",
    "        x=torch.cat([x,contracting_x],dim=1)\n",
    "        return x\n",
    "    \n",
    "class UNet(nn.Module):\n",
    "    def __init__(self,in_channels:int, out_channels:int):\n",
    "        super().__init__()\n",
    "        self.down_conv=nn.ModuleList([DoubleConvolution(i,o) for i,o in \n",
    "                                     [(in_channels,64),(64,128),(128,256),(256,512)]])\n",
    "        self.down_sample = nn.ModuleList([DownSample() for _ in range(4)])\n",
    "        self.middle_conv = DoubleConvolution(512, 1024)\n",
    "        self.up_sample = nn.ModuleList([UpSample(i, o) for i, o in\n",
    "                                       [(1024, 512), (512, 256), (256, 128), (128, 64)]])\n",
    "        self.up_conv = nn.ModuleList([DoubleConvolution(i, o) for i, o in\n",
    "                                     [(1024, 512), (512, 256), (256, 128), (128, 64)]])\n",
    "        self.concat = nn.ModuleList([CropAndConcat() for _ in range(4)])\n",
    "        self.final_conv = nn.Conv2d(64, out_channels, kernel_size=1)\n",
    "\n",
    "    def forward(self, x: torch.Tensor):\n",
    "        pass_through = []\n",
    "        for i in range(len(self.down_conv)):\n",
    "            x = self.down_conv[i](x)\n",
    "            pass_through.append(x)\n",
    "            x=self.down_sample[i](x)\n",
    "        x=self.middle_conv(x)\n",
    "        for i in range(len(self.up_conv)):\n",
    "            x=self.up_sample[i](x)\n",
    "            x=self.concat[i](x,pass_through.pop())\n",
    "            x=self.up_conv[i](x)\n",
    "        x=self.final_conv(x)\n",
    "        return x\n",
    "\n",
    "if __name__ == '__main__':\n",
    "    device='cuda' if torch.cuda.is_available() else 'cpu'\n",
    "    model=UNet(3,2).to(device)\n",
    "    criterion=nn.CrossEntropyLoss(reduction='mean')\n",
    "    val_criterion=nn.CrossEntropyLoss(reduction='mean')\n",
    "    optimzier=optim.Adam(model.parameters(),lr=0.01)\n",
    "    train_dataset,val_dataset,test_dataset=split_dataset()\n",
    "    for i in range(0,10):\n",
    "        train_dataloader=mydataloader(train_dataset,16)\n",
    "        val_dataloader=mydataloader(val_dataset,16)\n",
    "        for e,data in enumerate(train_dataloader):\n",
    "            X,Y=data\n",
    "            X=torch.tensor(X,dtype=torch.float32).to(device)\n",
    "            Y=torch.tensor(Y[:,0,...],dtype=torch.long).to(device)\n",
    "            pre=model(X)\n",
    "            loss=criterion(pre,Y)\n",
    "            optimzier.zero_grad()\n",
    "            loss.backward()\n",
    "            print(f'epoch:{i},batch:{e},loss:{loss}')\n",
    "            optimzier.step()\n",
    "        if i % 10 ==0:\n",
    "            with torch.no_grad():\n",
    "                model.eval()\n",
    "                ls=0\n",
    "                for X,Y in val_dataloader:\n",
    "                    X=torch.tensor(X,dtype=torch.float32).to(device)\n",
    "                    Y=torch.tensor(Y[:,0,...],dtype=torch.long).to(device)\n",
    "                    pre=model(X)\n",
    "                    ls+=val_criterion(pre,Y)\n",
    "                print(f'epoch:{i},loss:{ls}')\n",
    "                model.train()\n"
   ]
  },
  {
   "cell_type": "code",
   "execution_count": 2,
   "metadata": {},
   "outputs": [],
   "source": [
    "from utils import mydataloader,split_dataset\n",
    "train_dataset,_,_=split_dataset()\n",
    "x=mydataloader(train_dataset,16)"
   ]
  },
  {
   "cell_type": "code",
   "execution_count": 3,
   "metadata": {},
   "outputs": [
    {
     "data": {
      "text/plain": [
       "generator"
      ]
     },
     "execution_count": 3,
     "metadata": {},
     "output_type": "execute_result"
    }
   ],
   "source": [
    "type(x)"
   ]
  },
  {
   "cell_type": "code",
   "execution_count": 4,
   "metadata": {},
   "outputs": [],
   "source": [
    "t,y=next(x)"
   ]
  },
  {
   "cell_type": "code",
   "execution_count": 5,
   "metadata": {},
   "outputs": [
    {
     "data": {
      "text/plain": [
       "numpy.ndarray"
      ]
     },
     "execution_count": 5,
     "metadata": {},
     "output_type": "execute_result"
    }
   ],
   "source": [
    "type(t)"
   ]
  },
  {
   "cell_type": "code",
   "execution_count": 6,
   "metadata": {},
   "outputs": [
    {
     "data": {
      "text/plain": [
       "(16, 3, 512, 512)"
      ]
     },
     "execution_count": 6,
     "metadata": {},
     "output_type": "execute_result"
    }
   ],
   "source": [
    "t.shape"
   ]
  },
  {
   "cell_type": "code",
   "execution_count": 8,
   "metadata": {},
   "outputs": [
    {
     "data": {
      "text/plain": [
       "(16, 3, 324, 324)"
      ]
     },
     "execution_count": 8,
     "metadata": {},
     "output_type": "execute_result"
    }
   ],
   "source": [
    "y.shape"
   ]
  },
  {
   "cell_type": "code",
   "execution_count": 13,
   "metadata": {},
   "outputs": [
    {
     "data": {
      "text/plain": [
       "(array([48498.,     0.,     0.,     0.,     0.,     0.,     0.,     0.,\n",
       "            0., 56478.]),\n",
       " array([0. , 0.1, 0.2, 0.3, 0.4, 0.5, 0.6, 0.7, 0.8, 0.9, 1. ]),\n",
       " <BarContainer object of 10 artists>)"
      ]
     },
     "execution_count": 13,
     "metadata": {},
     "output_type": "execute_result"
    },
    {
     "data": {
      "image/png": "[encoded data removed]",
      "text/plain": [
       "<Figure size 640x480 with 1 Axes>"
      ]
     },
     "metadata": {},
     "output_type": "display_data"
    }
   ],
   "source": [
    "from matplotlib.pyplot import hist,imshow\n",
    "hist(y[0,0].flatten())"
   ]
  },
  {
   "cell_type": "code",
   "execution_count": 14,
   "metadata": {},
   "outputs": [
    {
     "data": {
      "text/plain": [
       "<matplotlib.image.AxesImage at 0x1e1943efa30>"
      ]
     },
     "execution_count": 14,
     "metadata": {},
     "output_type": "execute_result"
    },
    {
     "data": {
      "image/png": "[encoded data removed]",
      "text/plain": [
       "<Figure size 640x480 with 1 Axes>"
      ]
     },
     "metadata": {},
     "output_type": "display_data"
    }
   ],
   "source": [
    "imshow(y[0,0])"
   ]
  },
  {
   "cell_type": "code",
   "execution_count": null,
   "metadata": {},
   "outputs": [],
   "source": []
  }
 ],
 "metadata": {
  "kernelspec": {
   "display_name": "env1",
   "language": "python",
   "name": "python3"
  },
  "language_info": {
   "codemirror_mode": {
    "name": "ipython",
    "version": 3
   },
   "file_extension": ".py",
   "mimetype": "text/x-python",
   "name": "python",
   "nbconvert_exporter": "python",
   "pygments_lexer": "ipython3",
   "version": "3.10.13"
  }
 },
 "nbformat": 4,
 "nbformat_minor": 2
}
